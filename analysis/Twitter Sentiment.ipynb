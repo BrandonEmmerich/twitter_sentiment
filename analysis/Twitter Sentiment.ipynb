{
 "cells": [
  {
   "cell_type": "markdown",
   "metadata": {},
   "source": [
    "## Twitter Sentiment\n",
    "First, load the data into the workspace."
   ]
  },
  {
   "cell_type": "code",
   "execution_count": 88,
   "metadata": {},
   "outputs": [],
   "source": [
    "import pandas as pd\n",
    "import psycopg2\n",
    "import sys\n",
    "sys.path.append(\"../listener\")\n",
    "\n",
    "import private\n",
    "\n",
    "pd.set_option('display.max_colwidth', -1)\n",
    "\n",
    "QUERY_GET_DATING_DATA = '''\n",
    "select\n",
    "    *,\n",
    "    case\n",
    "        when tweet_text ~ 'tinder' or tweet_full_text ~ 'tinder' then 'Tinder'\n",
    "        when tweet_text ~ 'bumble' or tweet_full_text ~ 'bumble' then 'Bumble'\n",
    "        when tweet_text ~ 'jswipe' or tweet_full_text ~ 'jswipe' then 'Jswipe'\n",
    "        when tweet_text ~ 'coffee meets bagel' or tweet_full_text ~ 'coffee meets bagel' then 'Coffee Meets Bagel'\n",
    "        else 'Unclassified'\n",
    "end as platform_name\n",
    "from twitter_sentiment.dating_apps;\n",
    "'''\n",
    "\n",
    "with psycopg2.connect(private.AWS_CONNECTION_STRING) as conn:\n",
    "    df = pd.read_sql(\n",
    "        sql = QUERY_GET_DATING_DATA,\n",
    "        con = conn\n",
    "    )"
   ]
  },
  {
   "cell_type": "markdown",
   "metadata": {},
   "source": [
    "### Sentiment Analysis\n",
    "Use the vader package to assign sentiment to each tweet."
   ]
  },
  {
   "cell_type": "code",
   "execution_count": 34,
   "metadata": {},
   "outputs": [
    {
     "name": "stdout",
     "output_type": "stream",
     "text": [
      "Tinder: {'neg': 0.0, 'neu': 0.271, 'pos': 0.729, 'compound': 0.843}\n",
      "Jswipe: {'neg': 0.0, 'neu': 0.588, 'pos': 0.412, 'compound': 0.6369}\n",
      "Bumble: {'neg': 0.379, 'neu': 0.504, 'pos': 0.117, 'compound': -0.6269}\n"
     ]
    }
   ],
   "source": [
    "from vaderSentiment.vaderSentiment import SentimentIntensityAnalyzer\n",
    "\n",
    "analyser = SentimentIntensityAnalyzer()\n",
    "\n",
    "print('Tinder: ' + str(analyser.polarity_scores(\"I love Tinder, so much fun!\")))\n",
    "print('Jswipe: ' + str(analyser.polarity_scores(\"All the best people are on Jswipe\")))\n",
    "print('Bumble: ' + str(analyser.polarity_scores(\"Are you F&%$ing kidding me??? Bumble is terrible!!!\")))"
   ]
  },
  {
   "cell_type": "code",
   "execution_count": 80,
   "metadata": {},
   "outputs": [],
   "source": [
    "def get_sentiment(text):\n",
    "    '''Take text, return positive sentiment score'''\n",
    "    return analyser.polarity_scores(text)['compound']\n",
    "\n",
    "df_clean = df[['tweet_created_at','tweet_text','tweet_full_text', 'platform_name']][df['tweet_language']=='en']\n",
    "df_clean['sentiment_compound'] = df_clean['tweet_text'].apply(get_sentiment)"
   ]
  },
  {
   "cell_type": "code",
   "execution_count": 77,
   "metadata": {},
   "outputs": [
    {
     "data": {
      "text/plain": [
       "array([[<matplotlib.axes._subplots.AxesSubplot object at 0x11ce51250>]],\n",
       "      dtype=object)"
      ]
     },
     "execution_count": 77,
     "metadata": {},
     "output_type": "execute_result"
    },
    {
     "data": {
      "image/png": "[encoded data removed]",
      "text/plain": [
       "<Figure size 432x288 with 1 Axes>"
      ]
     },
     "metadata": {},
     "output_type": "display_data"
    }
   ],
   "source": [
    "df_clean[df_clean['sentiment_compound'] != 0].hist()"
   ]
  },
  {
   "cell_type": "code",
   "execution_count": 89,
   "metadata": {},
   "outputs": [
    {
     "data": {
      "text/html": [
       "<div>\n",
       "<style scoped>\n",
       "    .dataframe tbody tr th:only-of-type {\n",
       "        vertical-align: middle;\n",
       "    }\n",
       "\n",
       "    .dataframe tbody tr th {\n",
       "        vertical-align: top;\n",
       "    }\n",
       "\n",
       "    .dataframe thead th {\n",
       "        text-align: right;\n",
       "    }\n",
       "</style>\n",
       "<table border=\"1\" class=\"dataframe\">\n",
       "  <thead>\n",
       "    <tr style=\"text-align: right;\">\n",
       "      <th></th>\n",
       "      <th>tweet_text</th>\n",
       "      <th>sentiment_compound</th>\n",
       "      <th>platform_name</th>\n",
       "    </tr>\n",
       "  </thead>\n",
       "  <tbody>\n",
       "    <tr>\n",
       "      <th>278</th>\n",
       "      <td>@thismommyrocksR @jaymohr37 @Tinder My heart is so happy! Congratulations wonderful you. You having an amazing soul… https://t.co/tKJscJXYU1</td>\n",
       "      <td>0.9582</td>\n",
       "      <td>Unclassified</td>\n",
       "    </tr>\n",
       "    <tr>\n",
       "      <th>5787</th>\n",
       "      <td>This dude I swiped yes on Super Liked me on Tinder, but he hasn't messaged me. Why are you gonna Super Like me if y… https://t.co/HksvRFMBGA</td>\n",
       "      <td>0.9300</td>\n",
       "      <td>Unclassified</td>\n",
       "    </tr>\n",
       "    <tr>\n",
       "      <th>760</th>\n",
       "      <td>i just had a really nice afternoon with a guy i met on tinder\\n\\nhes super cute and i like him!!! i took this picture… https://t.co/JwW5MrR7bO</td>\n",
       "      <td>0.9242</td>\n",
       "      <td>Tinder</td>\n",
       "    </tr>\n",
       "    <tr>\n",
       "      <th>4904</th>\n",
       "      <td>Eu girl Dating Tinder Sexual babe Date ? sex singles lady Beautiful For free Nz passion Friends Teen colorado Chick… https://t.co/GjHucIQkgA</td>\n",
       "      <td>0.9231</td>\n",
       "      <td>Unclassified</td>\n",
       "    </tr>\n",
       "    <tr>\n",
       "      <th>2989</th>\n",
       "      <td>matched with a guy on tinder who really isn’t my type personality wise but he’s really cute lmao</td>\n",
       "      <td>0.9225</td>\n",
       "      <td>Tinder</td>\n",
       "    </tr>\n",
       "  </tbody>\n",
       "</table>\n",
       "</div>"
      ],
      "text/plain": [
       "                                                                                                                                          tweet_text  \\\n",
       "278   @thismommyrocksR @jaymohr37 @Tinder My heart is so happy! Congratulations wonderful you. You having an amazing soul… https://t.co/tKJscJXYU1     \n",
       "5787  This dude I swiped yes on Super Liked me on Tinder, but he hasn't messaged me. Why are you gonna Super Like me if y… https://t.co/HksvRFMBGA     \n",
       "760   i just had a really nice afternoon with a guy i met on tinder\\n\\nhes super cute and i like him!!! i took this picture… https://t.co/JwW5MrR7bO   \n",
       "4904  Eu girl Dating Tinder Sexual babe Date ? sex singles lady Beautiful For free Nz passion Friends Teen colorado Chick… https://t.co/GjHucIQkgA     \n",
       "2989  matched with a guy on tinder who really isn’t my type personality wise but he’s really cute lmao                                                 \n",
       "\n",
       "      sentiment_compound platform_name  \n",
       "278   0.9582              Unclassified  \n",
       "5787  0.9300              Unclassified  \n",
       "760   0.9242              Tinder        \n",
       "4904  0.9231              Unclassified  \n",
       "2989  0.9225              Tinder        "
      ]
     },
     "execution_count": 89,
     "metadata": {},
     "output_type": "execute_result"
    }
   ],
   "source": [
    "(df_clean.\n",
    "    sort_values(by = ['sentiment_compound'], ascending=False).\n",
    "    head()[['tweet_text', 'sentiment_compound', 'platform_name']])"
   ]
  },
  {
   "cell_type": "code",
   "execution_count": 91,
   "metadata": {},
   "outputs": [
    {
     "data": {
      "text/html": [
       "<div>\n",
       "<style scoped>\n",
       "    .dataframe tbody tr th:only-of-type {\n",
       "        vertical-align: middle;\n",
       "    }\n",
       "\n",
       "    .dataframe tbody tr th {\n",
       "        vertical-align: top;\n",
       "    }\n",
       "\n",
       "    .dataframe thead th {\n",
       "        text-align: right;\n",
       "    }\n",
       "</style>\n",
       "<table border=\"1\" class=\"dataframe\">\n",
       "  <thead>\n",
       "    <tr style=\"text-align: right;\">\n",
       "      <th></th>\n",
       "      <th>tweet_text</th>\n",
       "      <th>sentiment_compound</th>\n",
       "      <th>platform_name</th>\n",
       "    </tr>\n",
       "  </thead>\n",
       "  <tbody>\n",
       "    <tr>\n",
       "      <th>664</th>\n",
       "      <td>RT @n_direct: Serial killer Deku and Serial killer Bkg meeting up using Tinder w/ plans to kill each other. Neither knows that the other is…</td>\n",
       "      <td>-0.936</td>\n",
       "      <td>Unclassified</td>\n",
       "    </tr>\n",
       "    <tr>\n",
       "      <th>207</th>\n",
       "      <td>RT @n_direct: Serial killer Deku and Serial killer Bkg meeting up using Tinder w/ plans to kill each other. Neither knows that the other is…</td>\n",
       "      <td>-0.936</td>\n",
       "      <td>Unclassified</td>\n",
       "    </tr>\n",
       "    <tr>\n",
       "      <th>3197</th>\n",
       "      <td>RT @n_direct: Serial killer Deku and Serial killer Bkg meeting up using Tinder w/ plans to kill each other. Neither knows that the other is…</td>\n",
       "      <td>-0.936</td>\n",
       "      <td>Unclassified</td>\n",
       "    </tr>\n",
       "    <tr>\n",
       "      <th>6124</th>\n",
       "      <td>RT @n_direct: Serial killer Deku and Serial killer Bkg meeting up using Tinder w/ plans to kill each other. Neither knows that the other is…</td>\n",
       "      <td>-0.936</td>\n",
       "      <td>Unclassified</td>\n",
       "    </tr>\n",
       "    <tr>\n",
       "      <th>3195</th>\n",
       "      <td>RT @n_direct: Serial killer Deku and Serial killer Bkg meeting up using Tinder w/ plans to kill each other. Neither knows that the other is…</td>\n",
       "      <td>-0.936</td>\n",
       "      <td>Unclassified</td>\n",
       "    </tr>\n",
       "  </tbody>\n",
       "</table>\n",
       "</div>"
      ],
      "text/plain": [
       "                                                                                                                                        tweet_text  \\\n",
       "664   RT @n_direct: Serial killer Deku and Serial killer Bkg meeting up using Tinder w/ plans to kill each other. Neither knows that the other is…   \n",
       "207   RT @n_direct: Serial killer Deku and Serial killer Bkg meeting up using Tinder w/ plans to kill each other. Neither knows that the other is…   \n",
       "3197  RT @n_direct: Serial killer Deku and Serial killer Bkg meeting up using Tinder w/ plans to kill each other. Neither knows that the other is…   \n",
       "6124  RT @n_direct: Serial killer Deku and Serial killer Bkg meeting up using Tinder w/ plans to kill each other. Neither knows that the other is…   \n",
       "3195  RT @n_direct: Serial killer Deku and Serial killer Bkg meeting up using Tinder w/ plans to kill each other. Neither knows that the other is…   \n",
       "\n",
       "      sentiment_compound platform_name  \n",
       "664  -0.936               Unclassified  \n",
       "207  -0.936               Unclassified  \n",
       "3197 -0.936               Unclassified  \n",
       "6124 -0.936               Unclassified  \n",
       "3195 -0.936               Unclassified  "
      ]
     },
     "execution_count": 91,
     "metadata": {},
     "output_type": "execute_result"
    }
   ],
   "source": [
    "(df_clean.\n",
    "    sort_values(by = ['sentiment_compound'], ascending=True).\n",
    "    head()[['tweet_text', 'sentiment_compound','platform_name']])"
   ]
  }
 ],
 "metadata": {
  "kernelspec": {
   "display_name": "Python 2",
   "language": "python",
   "name": "python2"
  },
  "language_info": {
   "codemirror_mode": {
    "name": "ipython",
    "version": 2
   },
   "file_extension": ".py",
   "mimetype": "text/x-python",
   "name": "python",
   "nbconvert_exporter": "python",
   "pygments_lexer": "ipython2",
   "version": "2.7.15"
  }
 },
 "nbformat": 4,
 "nbformat_minor": 2
}
