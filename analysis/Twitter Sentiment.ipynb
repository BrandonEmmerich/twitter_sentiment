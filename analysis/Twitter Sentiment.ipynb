{
 "cells": [
  {
   "cell_type": "markdown",
   "metadata": {},
   "source": [
    "## Twitter Sentiment\n",
    "First, load the data into the workspace."
   ]
  },
  {
   "cell_type": "code",
   "execution_count": 1,
   "metadata": {},
   "outputs": [
    {
     "name": "stderr",
     "output_type": "stream",
     "text": [
      "/Users/b/anaconda2/lib/python2.7/site-packages/psycopg2/__init__.py:144: UserWarning: The psycopg2 wheel package will be renamed from release 2.8; in order to keep installing from binary please use \"pip install psycopg2-binary\" instead. For details see: <http://initd.org/psycopg/docs/install.html#binary-install-from-pypi>.\n",
      "  \"\"\")\n"
     ]
    }
   ],
   "source": [
    "import pandas as pd\n",
    "import psycopg2\n",
    "import sys\n",
    "sys.path.append(\"../listener\")\n",
    "\n",
    "import private\n",
    "\n",
    "pd.set_option('display.max_colwidth', -1)\n",
    "\n",
    "QUERY_GET_DATING_DATA = '''\n",
    "select\n",
    "    *,\n",
    "    case\n",
    "        when tweet_text ~ 'tinder' or tweet_full_text ~ 'tinder' then 'Tinder'\n",
    "        when tweet_text ~ 'bumble' or tweet_full_text ~ 'bumble' then 'Bumble'\n",
    "        when tweet_text ~ 'jswipe' or tweet_full_text ~ 'jswipe' then 'Jswipe'\n",
    "        when tweet_text ~ 'coffee meets bagel' or tweet_full_text ~ 'coffee meets bagel' then 'Coffee Meets Bagel'\n",
    "        else 'Unclassified'\n",
    "end as platform_name\n",
    "from twitter_sentiment.dating_apps;\n",
    "'''\n",
    "\n",
    "with psycopg2.connect(private.AWS_CONNECTION_STRING) as conn:\n",
    "    df = pd.read_sql(\n",
    "        sql = QUERY_GET_DATING_DATA,\n",
    "        con = conn\n",
    "    )"
   ]
  },
  {
   "cell_type": "markdown",
   "metadata": {},
   "source": [
    "### Sentiment Analysis\n",
    "Use the vader package to assign sentiment to each tweet."
   ]
  },
  {
   "cell_type": "code",
   "execution_count": 2,
   "metadata": {},
   "outputs": [
    {
     "name": "stdout",
     "output_type": "stream",
     "text": [
      "Tinder: {'neg': 0.0, 'neu': 0.271, 'pos': 0.729, 'compound': 0.843}\n",
      "Jswipe: {'neg': 0.0, 'neu': 0.588, 'pos': 0.412, 'compound': 0.6369}\n",
      "Bumble: {'neg': 0.379, 'neu': 0.504, 'pos': 0.117, 'compound': -0.6269}\n"
     ]
    }
   ],
   "source": [
    "from vaderSentiment.vaderSentiment import SentimentIntensityAnalyzer\n",
    "\n",
    "analyser = SentimentIntensityAnalyzer()\n",
    "\n",
    "print('Tinder: ' + str(analyser.polarity_scores(\"I love Tinder, so much fun!\")))\n",
    "print('Jswipe: ' + str(analyser.polarity_scores(\"All the best people are on Jswipe\")))\n",
    "print('Bumble: ' + str(analyser.polarity_scores(\"Are you F&%$ing kidding me??? Bumble is terrible!!!\")))"
   ]
  },
  {
   "cell_type": "code",
   "execution_count": 3,
   "metadata": {},
   "outputs": [],
   "source": [
    "def get_sentiment(text):\n",
    "    '''Take text, return positive sentiment score'''\n",
    "    return analyser.polarity_scores(text)['compound']\n",
    "\n",
    "df_clean = df[['tweet_created_at','tweet_text','tweet_full_text', 'platform_name']][df['tweet_language']=='en']\n",
    "df_clean['sentiment_compound'] = df_clean['tweet_text'].apply(get_sentiment)"
   ]
  },
  {
   "cell_type": "code",
   "execution_count": 7,
   "metadata": {},
   "outputs": [
    {
     "data": {
      "text/plain": [
       "array([[<matplotlib.axes._subplots.AxesSubplot object at 0x11061a5d0>]],\n",
       "      dtype=object)"
      ]
     },
     "execution_count": 7,
     "metadata": {},
     "output_type": "execute_result"
    },
    {
     "data": {
      "image/png": "[encoded data removed]",
      "text/plain": [
       "<Figure size 432x288 with 1 Axes>"
      ]
     },
     "metadata": {},
     "output_type": "display_data"
    }
   ],
   "source": [
    "df_clean[df_clean['sentiment_compound'] != 0].hist()"
   ]
  },
  {
   "cell_type": "code",
   "execution_count": 5,
   "metadata": {},
   "outputs": [
    {
     "data": {
      "text/html": [
       "<div>\n",
       "<style scoped>\n",
       "    .dataframe tbody tr th:only-of-type {\n",
       "        vertical-align: middle;\n",
       "    }\n",
       "\n",
       "    .dataframe tbody tr th {\n",
       "        vertical-align: top;\n",
       "    }\n",
       "\n",
       "    .dataframe thead th {\n",
       "        text-align: right;\n",
       "    }\n",
       "</style>\n",
       "<table border=\"1\" class=\"dataframe\">\n",
       "  <thead>\n",
       "    <tr style=\"text-align: right;\">\n",
       "      <th></th>\n",
       "      <th>tweet_text</th>\n",
       "      <th>sentiment_compound</th>\n",
       "      <th>platform_name</th>\n",
       "    </tr>\n",
       "  </thead>\n",
       "  <tbody>\n",
       "    <tr>\n",
       "      <th>279</th>\n",
       "      <td>@thismommyrocksR @jaymohr37 @Tinder My heart is so happy! Congratulations wonderful you. You having an amazing soul… https://t.co/tKJscJXYU1</td>\n",
       "      <td>0.9582</td>\n",
       "      <td>Unclassified</td>\n",
       "    </tr>\n",
       "    <tr>\n",
       "      <th>11361</th>\n",
       "      <td>sex 2018 girls beautiful 1st ? Cartagena tinder Cute new mexico best sexual wanting lady Free 24/7 cheerful Online… https://t.co/SPDcZthrjv</td>\n",
       "      <td>0.9578</td>\n",
       "      <td>Tinder</td>\n",
       "    </tr>\n",
       "    <tr>\n",
       "      <th>12769</th>\n",
       "      <td>nude Beautiful Women relations Lover for free Eastern Match adult charm Sex free zwickau Dates Exclusive ? Illinois… https://t.co/R06IOcuLCI</td>\n",
       "      <td>0.9552</td>\n",
       "      <td>Unclassified</td>\n",
       "    </tr>\n",
       "    <tr>\n",
       "      <th>14174</th>\n",
       "      <td>British people got the best slang and the best accent, reading it in the Brit way is amazing lmfao</td>\n",
       "      <td>0.9493</td>\n",
       "      <td>Unclassified</td>\n",
       "    </tr>\n",
       "    <tr>\n",
       "      <th>10942</th>\n",
       "      <td>real popular German nice Tinder moms Relation Beauty Fr hesse look for Love dating hookup Good sexual Uk sex girl H… https://t.co/aXoko2t0Kt</td>\n",
       "      <td>0.9477</td>\n",
       "      <td>Unclassified</td>\n",
       "    </tr>\n",
       "  </tbody>\n",
       "</table>\n",
       "</div>"
      ],
      "text/plain": [
       "                                                                                                                                         tweet_text  \\\n",
       "279    @thismommyrocksR @jaymohr37 @Tinder My heart is so happy! Congratulations wonderful you. You having an amazing soul… https://t.co/tKJscJXYU1   \n",
       "11361  sex 2018 girls beautiful 1st ? Cartagena tinder Cute new mexico best sexual wanting lady Free 24/7 cheerful Online… https://t.co/SPDcZthrjv    \n",
       "12769  nude Beautiful Women relations Lover for free Eastern Match adult charm Sex free zwickau Dates Exclusive ? Illinois… https://t.co/R06IOcuLCI   \n",
       "14174  British people got the best slang and the best accent, reading it in the Brit way is amazing lmfao                                             \n",
       "10942  real popular German nice Tinder moms Relation Beauty Fr hesse look for Love dating hookup Good sexual Uk sex girl H… https://t.co/aXoko2t0Kt   \n",
       "\n",
       "       sentiment_compound platform_name  \n",
       "279    0.9582              Unclassified  \n",
       "11361  0.9578              Tinder        \n",
       "12769  0.9552              Unclassified  \n",
       "14174  0.9493              Unclassified  \n",
       "10942  0.9477              Unclassified  "
      ]
     },
     "execution_count": 5,
     "metadata": {},
     "output_type": "execute_result"
    }
   ],
   "source": [
    "(df_clean.\n",
    "    sort_values(by = ['sentiment_compound'], ascending=False).\n",
    "    head()[['tweet_text', 'sentiment_compound', 'platform_name']])"
   ]
  },
  {
   "cell_type": "code",
   "execution_count": 6,
   "metadata": {},
   "outputs": [
    {
     "data": {
      "text/html": [
       "<div>\n",
       "<style scoped>\n",
       "    .dataframe tbody tr th:only-of-type {\n",
       "        vertical-align: middle;\n",
       "    }\n",
       "\n",
       "    .dataframe tbody tr th {\n",
       "        vertical-align: top;\n",
       "    }\n",
       "\n",
       "    .dataframe thead th {\n",
       "        text-align: right;\n",
       "    }\n",
       "</style>\n",
       "<table border=\"1\" class=\"dataframe\">\n",
       "  <thead>\n",
       "    <tr style=\"text-align: right;\">\n",
       "      <th></th>\n",
       "      <th>tweet_text</th>\n",
       "      <th>sentiment_compound</th>\n",
       "      <th>platform_name</th>\n",
       "    </tr>\n",
       "  </thead>\n",
       "  <tbody>\n",
       "    <tr>\n",
       "      <th>13034</th>\n",
       "      <td>RT @JennNdJuice: Dont never tell no bumble fuck ass bitch shit about her man. It ain’t shit you can say that her intuition ain’t already to…</td>\n",
       "      <td>-0.9621</td>\n",
       "      <td>Bumble</td>\n",
       "    </tr>\n",
       "    <tr>\n",
       "      <th>8002</th>\n",
       "      <td>Dont never tell no bumble fuck ass bitch shit about her man. It ain’t shit you can say that her intuition ain’t alr… https://t.co/cX67zsAEqZ</td>\n",
       "      <td>-0.9621</td>\n",
       "      <td>Bumble</td>\n",
       "    </tr>\n",
       "    <tr>\n",
       "      <th>10853</th>\n",
       "      <td>RT @samanthakpaull: @aiyannaamb Why the fuck u bad bitches have tinder anyway, ur not a 53 year old Male with failing genetics and a sad qu…</td>\n",
       "      <td>-0.9538</td>\n",
       "      <td>Tinder</td>\n",
       "    </tr>\n",
       "    <tr>\n",
       "      <th>7898</th>\n",
       "      <td>i go on tinder when im depressed but it makes me even more depressed because men are ugly and gross 😔</td>\n",
       "      <td>-0.9451</td>\n",
       "      <td>Tinder</td>\n",
       "    </tr>\n",
       "    <tr>\n",
       "      <th>16909</th>\n",
       "      <td>RT @n_direct: Serial killer Deku and Serial killer Bkg meeting up using Tinder w/ plans to kill each other. Neither knows that the other is…</td>\n",
       "      <td>-0.9360</td>\n",
       "      <td>Unclassified</td>\n",
       "    </tr>\n",
       "  </tbody>\n",
       "</table>\n",
       "</div>"
      ],
      "text/plain": [
       "                                                                                                                                         tweet_text  \\\n",
       "13034  RT @JennNdJuice: Dont never tell no bumble fuck ass bitch shit about her man. It ain’t shit you can say that her intuition ain’t already to…   \n",
       "8002   Dont never tell no bumble fuck ass bitch shit about her man. It ain’t shit you can say that her intuition ain’t alr… https://t.co/cX67zsAEqZ   \n",
       "10853  RT @samanthakpaull: @aiyannaamb Why the fuck u bad bitches have tinder anyway, ur not a 53 year old Male with failing genetics and a sad qu…   \n",
       "7898   i go on tinder when im depressed but it makes me even more depressed because men are ugly and gross 😔                                         \n",
       "16909  RT @n_direct: Serial killer Deku and Serial killer Bkg meeting up using Tinder w/ plans to kill each other. Neither knows that the other is…   \n",
       "\n",
       "       sentiment_compound platform_name  \n",
       "13034 -0.9621              Bumble        \n",
       "8002  -0.9621              Bumble        \n",
       "10853 -0.9538              Tinder        \n",
       "7898  -0.9451              Tinder        \n",
       "16909 -0.9360              Unclassified  "
      ]
     },
     "execution_count": 6,
     "metadata": {},
     "output_type": "execute_result"
    }
   ],
   "source": [
    "(df_clean.\n",
    "    sort_values(by = ['sentiment_compound'], ascending=True).\n",
    "    head()[['tweet_text', 'sentiment_compound','platform_name']])"
   ]
  }
 ],
 "metadata": {
  "kernelspec": {
   "display_name": "Python 2",
   "language": "python",
   "name": "python2"
  },
  "language_info": {
   "codemirror_mode": {
    "name": "ipython",
    "version": 2
   },
   "file_extension": ".py",
   "mimetype": "text/x-python",
   "name": "python",
   "nbconvert_exporter": "python",
   "pygments_lexer": "ipython2",
   "version": "2.7.15"
  }
 },
 "nbformat": 4,
 "nbformat_minor": 2
}
