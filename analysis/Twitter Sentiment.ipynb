{
 "cells": [
  {
   "cell_type": "markdown",
   "metadata": {},
   "source": [
    "## Twitter Sentiment\n",
    "First, load the data into the workspace."
   ]
  },
  {
   "cell_type": "code",
   "execution_count": 15,
   "metadata": {},
   "outputs": [],
   "source": [
    "import pandas as pd\n",
    "import psycopg2\n",
    "import sys\n",
    "sys.path.append(\"../listener\")\n",
    "\n",
    "import private\n",
    "\n",
    "with psycopg2.connect(private.AWS_CONNECTION_STRING) as conn:\n",
    "    df = pd.read_sql(\n",
    "        sql = 'select * from twitter_sentiment.dating_apps;',\n",
    "        con = conn\n",
    "    )"
   ]
  },
  {
   "cell_type": "markdown",
   "metadata": {},
   "source": [
    "### Sentiment Analysis\n",
    "Use the vader package to assign sentiment to each tweet."
   ]
  },
  {
   "cell_type": "code",
   "execution_count": 34,
   "metadata": {},
   "outputs": [
    {
     "name": "stdout",
     "output_type": "stream",
     "text": [
      "Tinder: {'neg': 0.0, 'neu': 0.271, 'pos': 0.729, 'compound': 0.843}\n",
      "Jswipe: {'neg': 0.0, 'neu': 0.588, 'pos': 0.412, 'compound': 0.6369}\n",
      "Bumble: {'neg': 0.379, 'neu': 0.504, 'pos': 0.117, 'compound': -0.6269}\n"
     ]
    }
   ],
   "source": [
    "from vaderSentiment.vaderSentiment import SentimentIntensityAnalyzer\n",
    "\n",
    "analyser = SentimentIntensityAnalyzer()\n",
    "\n",
    "print('Tinder: ' + str(analyser.polarity_scores(\"I love Tinder, so much fun!\")))\n",
    "print('Jswipe: ' + str(analyser.polarity_scores(\"All the best people are on Jswipe\")))\n",
    "print('Bumble: ' + str(analyser.polarity_scores(\"Are you F&%$ing kidding me??? Bumble is terrible!!!\")))"
   ]
  },
  {
   "cell_type": "code",
   "execution_count": 48,
   "metadata": {},
   "outputs": [],
   "source": [
    "df_clean = df[['tweet_created_at','tweet_text','tweet_full_text']][df['tweet_language']=='en']\n",
    "\n",
    "def get_positive_sentiment(text):\n",
    "    '''Take text, return positive sentiment score'''\n",
    "    return analyser.polarity_scores(text)['pos']\n",
    "\n",
    "def get_negative_sentiment(text):\n",
    "    '''Take text, return positive sentiment score'''\n",
    "    return analyser.polarity_scores(text)['neg']"
   ]
  },
  {
   "cell_type": "code",
   "execution_count": 51,
   "metadata": {},
   "outputs": [
    {
     "data": {
      "text/html": [
       "<div>\n",
       "<style scoped>\n",
       "    .dataframe tbody tr th:only-of-type {\n",
       "        vertical-align: middle;\n",
       "    }\n",
       "\n",
       "    .dataframe tbody tr th {\n",
       "        vertical-align: top;\n",
       "    }\n",
       "\n",
       "    .dataframe thead th {\n",
       "        text-align: right;\n",
       "    }\n",
       "</style>\n",
       "<table border=\"1\" class=\"dataframe\">\n",
       "  <thead>\n",
       "    <tr style=\"text-align: right;\">\n",
       "      <th></th>\n",
       "      <th>tweet_created_at</th>\n",
       "      <th>tweet_text</th>\n",
       "      <th>tweet_full_text</th>\n",
       "      <th>sentiment_positive</th>\n",
       "      <th>sentiment_negative</th>\n",
       "    </tr>\n",
       "  </thead>\n",
       "  <tbody>\n",
       "    <tr>\n",
       "      <th>0</th>\n",
       "      <td>2019-01-21 23:00:20</td>\n",
       "      <td>Don't get them guys who put their gender as gi...</td>\n",
       "      <td>None</td>\n",
       "      <td>0.000</td>\n",
       "      <td>0.000</td>\n",
       "    </tr>\n",
       "    <tr>\n",
       "      <th>1</th>\n",
       "      <td>2019-01-21 23:04:23</td>\n",
       "      <td>UHMMMM. i made a tinder again and found the gu...</td>\n",
       "      <td>UHMMMM. i made a tinder again and found the gu...</td>\n",
       "      <td>0.249</td>\n",
       "      <td>0.061</td>\n",
       "    </tr>\n",
       "    <tr>\n",
       "      <th>4</th>\n",
       "      <td>2019-01-21 23:04:29</td>\n",
       "      <td>RT @AzakFeverAFC49: Love tinder. Been on it no...</td>\n",
       "      <td>None</td>\n",
       "      <td>0.201</td>\n",
       "      <td>0.179</td>\n",
       "    </tr>\n",
       "    <tr>\n",
       "      <th>14</th>\n",
       "      <td>2019-01-21 23:04:49</td>\n",
       "      <td>RT @KellyJoBluen: On the tinder date in the co...</td>\n",
       "      <td>None</td>\n",
       "      <td>0.000</td>\n",
       "      <td>0.000</td>\n",
       "    </tr>\n",
       "    <tr>\n",
       "      <th>15</th>\n",
       "      <td>2019-01-21 23:04:52</td>\n",
       "      <td>RT @BenJolly9: Worryingly, Theresa May is plan...</td>\n",
       "      <td>None</td>\n",
       "      <td>0.000</td>\n",
       "      <td>0.125</td>\n",
       "    </tr>\n",
       "  </tbody>\n",
       "</table>\n",
       "</div>"
      ],
      "text/plain": [
       "      tweet_created_at                                         tweet_text  \\\n",
       "0  2019-01-21 23:00:20  Don't get them guys who put their gender as gi...   \n",
       "1  2019-01-21 23:04:23  UHMMMM. i made a tinder again and found the gu...   \n",
       "4  2019-01-21 23:04:29  RT @AzakFeverAFC49: Love tinder. Been on it no...   \n",
       "14 2019-01-21 23:04:49  RT @KellyJoBluen: On the tinder date in the co...   \n",
       "15 2019-01-21 23:04:52  RT @BenJolly9: Worryingly, Theresa May is plan...   \n",
       "\n",
       "                                      tweet_full_text  sentiment_positive  \\\n",
       "0                                                None               0.000   \n",
       "1   UHMMMM. i made a tinder again and found the gu...               0.249   \n",
       "4                                                None               0.201   \n",
       "14                                               None               0.000   \n",
       "15                                               None               0.000   \n",
       "\n",
       "    sentiment_negative  \n",
       "0                0.000  \n",
       "1                0.061  \n",
       "4                0.179  \n",
       "14               0.000  \n",
       "15               0.125  "
      ]
     },
     "execution_count": 51,
     "metadata": {},
     "output_type": "execute_result"
    }
   ],
   "source": [
    "df_clean['sentiment_positive'] = df_clean['tweet_text'].apply(get_positive_sentiment)\n",
    "df_clean['sentiment_negative'] = df_clean['tweet_text'].apply(get_negative_sentiment)\n",
    "\n",
    "df_clean.head()"
   ]
  },
  {
   "cell_type": "code",
   "execution_count": 58,
   "metadata": {},
   "outputs": [
    {
     "data": {
      "text/plain": [
       "array([[<matplotlib.axes._subplots.AxesSubplot object at 0x11ca7b650>,\n",
       "        <matplotlib.axes._subplots.AxesSubplot object at 0x11caf4090>]],\n",
       "      dtype=object)"
      ]
     },
     "execution_count": 58,
     "metadata": {},
     "output_type": "execute_result"
    },
    {
     "data": {
      "image/png": "[encoded data removed]",
      "text/plain": [
       "<Figure size 432x288 with 2 Axes>"
      ]
     },
     "metadata": {},
     "output_type": "display_data"
    }
   ],
   "source": [
    "df_clean.hist()"
   ]
  }
 ],
 "metadata": {
  "kernelspec": {
   "display_name": "Python 2",
   "language": "python",
   "name": "python2"
  },
  "language_info": {
   "codemirror_mode": {
    "name": "ipython",
    "version": 2
   },
   "file_extension": ".py",
   "mimetype": "text/x-python",
   "name": "python",
   "nbconvert_exporter": "python",
   "pygments_lexer": "ipython2",
   "version": "2.7.15"
  }
 },
 "nbformat": 4,
 "nbformat_minor": 2
}
